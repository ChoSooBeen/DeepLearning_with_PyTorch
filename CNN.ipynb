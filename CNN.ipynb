{
  "nbformat": 4,
  "nbformat_minor": 0,
  "metadata": {
    "colab": {
      "provenance": [],
      "authorship_tag": "ABX9TyPWJgZGs+H8jK08j+Goz+kW",
      "include_colab_link": true
    },
    "kernelspec": {
      "name": "python3",
      "display_name": "Python 3"
    },
    "language_info": {
      "name": "python"
    },
    "accelerator": "GPU"
  },
  "cells": [
    {
      "cell_type": "markdown",
      "metadata": {
        "id": "view-in-github",
        "colab_type": "text"
      },
      "source": [
        "<a href=\"https://colab.research.google.com/github/ChoSooBeen/DeepLearning_with_PyTorch/blob/main/CNN.ipynb\" target=\"_parent\"><img src=\"https://colab.research.google.com/assets/colab-badge.svg\" alt=\"Open In Colab\"/></a>"
      ]
    },
    {
      "cell_type": "markdown",
      "source": [
        "#CNN 실습"
      ],
      "metadata": {
        "id": "7RnZycqm_OD6"
      }
    },
    {
      "cell_type": "code",
      "execution_count": 1,
      "metadata": {
        "id": "KZZuT0qC-vbn"
      },
      "outputs": [],
      "source": [
        "import torch\n",
        "import torch.nn as nn"
      ]
    },
    {
      "cell_type": "code",
      "source": [
        "# 배치 크기 × 채널 × 높이(height) × 너비(widht)의 크기의 텐서를 선언\n",
        "inputs = torch.Tensor(32, 3, 256, 256)\n",
        "print('텐서의 크기 : {}'.format(inputs.shape))"
      ],
      "metadata": {
        "colab": {
          "base_uri": "https://localhost:8080/"
        },
        "id": "eIDuPLmP_XVi",
        "outputId": "07e77cca-ca93-4607-fef8-8e9600dc5bf6"
      },
      "execution_count": 2,
      "outputs": [
        {
          "output_type": "stream",
          "name": "stdout",
          "text": [
            "텐서의 크기 : torch.Size([32, 3, 256, 256])\n"
          ]
        }
      ]
    },
    {
      "cell_type": "markdown",
      "source": [
        "### 합성곱층과 풀링 선언"
      ],
      "metadata": {
        "id": "M2GAfA13AXJm"
      }
    },
    {
      "cell_type": "code",
      "source": [
        "conv1 = nn.Conv2d(3, 32, 3, padding=1)\n",
        "print(conv1)"
      ],
      "metadata": {
        "colab": {
          "base_uri": "https://localhost:8080/"
        },
        "id": "e_ts6wQQ_jPE",
        "outputId": "90847721-b218-4386-bcfc-bae3368bd650"
      },
      "execution_count": 3,
      "outputs": [
        {
          "output_type": "stream",
          "name": "stdout",
          "text": [
            "Conv2d(3, 32, kernel_size=(3, 3), stride=(1, 1), padding=(1, 1))\n"
          ]
        }
      ]
    },
    {
      "cell_type": "code",
      "source": [
        "conv2 = nn.Conv2d(32, 64, kernel_size=3, padding=1)\n",
        "print(conv2)"
      ],
      "metadata": {
        "colab": {
          "base_uri": "https://localhost:8080/"
        },
        "id": "kY7XJtez_x4t",
        "outputId": "d5359499-c35e-41e5-c43d-ff82f96f4171"
      },
      "execution_count": 4,
      "outputs": [
        {
          "output_type": "stream",
          "name": "stdout",
          "text": [
            "Conv2d(32, 64, kernel_size=(3, 3), stride=(1, 1), padding=(1, 1))\n"
          ]
        }
      ]
    },
    {
      "cell_type": "code",
      "source": [
        "pool = nn.MaxPool2d(2)\n",
        "print(pool)"
      ],
      "metadata": {
        "colab": {
          "base_uri": "https://localhost:8080/"
        },
        "id": "dtZJTPrR_1D6",
        "outputId": "45f10188-e520-4bd5-dbec-2a42f179a946"
      },
      "execution_count": 5,
      "outputs": [
        {
          "output_type": "stream",
          "name": "stdout",
          "text": [
            "MaxPool2d(kernel_size=2, stride=2, padding=0, dilation=1, ceil_mode=False)\n"
          ]
        }
      ]
    },
    {
      "cell_type": "markdown",
      "source": [
        "### 입력된 텐서 크기 변화"
      ],
      "metadata": {
        "id": "ZGjR-4GUAcIq"
      }
    },
    {
      "cell_type": "code",
      "source": [
        "out = conv1(inputs)\n",
        "print(out.shape)"
      ],
      "metadata": {
        "colab": {
          "base_uri": "https://localhost:8080/"
        },
        "id": "jZ7FJd4O_8cM",
        "outputId": "bcc9694e-d534-47e6-c53b-6dd0594a4366"
      },
      "execution_count": 6,
      "outputs": [
        {
          "output_type": "stream",
          "name": "stdout",
          "text": [
            "torch.Size([32, 32, 256, 256])\n"
          ]
        }
      ]
    },
    {
      "cell_type": "code",
      "source": [
        "out = pool(out)\n",
        "print(out.shape)"
      ],
      "metadata": {
        "colab": {
          "base_uri": "https://localhost:8080/"
        },
        "id": "oOQarCF7AAPj",
        "outputId": "604554de-92c1-4617-f672-ac6ce22ce4c9"
      },
      "execution_count": 7,
      "outputs": [
        {
          "output_type": "stream",
          "name": "stdout",
          "text": [
            "torch.Size([32, 32, 128, 128])\n"
          ]
        }
      ]
    },
    {
      "cell_type": "code",
      "source": [
        "out = conv2(out)\n",
        "print(out.shape)"
      ],
      "metadata": {
        "colab": {
          "base_uri": "https://localhost:8080/"
        },
        "id": "9Chd8Zw4ADW9",
        "outputId": "29dcdeb9-a9dd-429a-9d34-53dc84977eb1"
      },
      "execution_count": 8,
      "outputs": [
        {
          "output_type": "stream",
          "name": "stdout",
          "text": [
            "torch.Size([32, 64, 128, 128])\n"
          ]
        }
      ]
    },
    {
      "cell_type": "code",
      "source": [
        "out = pool(out)\n",
        "print(out.shape)"
      ],
      "metadata": {
        "colab": {
          "base_uri": "https://localhost:8080/"
        },
        "id": "42ImHc7hAFeA",
        "outputId": "dcf86176-9baf-4066-ce9a-3d0b7a350e25"
      },
      "execution_count": 9,
      "outputs": [
        {
          "output_type": "stream",
          "name": "stdout",
          "text": [
            "torch.Size([32, 64, 64, 64])\n"
          ]
        }
      ]
    },
    {
      "cell_type": "code",
      "source": [
        "out.size(0)"
      ],
      "metadata": {
        "colab": {
          "base_uri": "https://localhost:8080/"
        },
        "id": "ZzukNA3_AILw",
        "outputId": "476ee21d-0eb8-45e8-c6da-94a093c4a3ce"
      },
      "execution_count": 10,
      "outputs": [
        {
          "output_type": "execute_result",
          "data": {
            "text/plain": [
              "32"
            ]
          },
          "metadata": {},
          "execution_count": 10
        }
      ]
    },
    {
      "cell_type": "code",
      "source": [
        "out.size(1)"
      ],
      "metadata": {
        "colab": {
          "base_uri": "https://localhost:8080/"
        },
        "id": "9K0AL8LuCPrl",
        "outputId": "4794fabc-c5f7-4f1c-9de0-a0ab68152a12"
      },
      "execution_count": 11,
      "outputs": [
        {
          "output_type": "execute_result",
          "data": {
            "text/plain": [
              "64"
            ]
          },
          "metadata": {},
          "execution_count": 11
        }
      ]
    },
    {
      "cell_type": "code",
      "source": [
        "out.size(2)"
      ],
      "metadata": {
        "colab": {
          "base_uri": "https://localhost:8080/"
        },
        "id": "L2uIZxwFCRUA",
        "outputId": "d55b7466-face-46c1-adee-0e4249f71122"
      },
      "execution_count": 12,
      "outputs": [
        {
          "output_type": "execute_result",
          "data": {
            "text/plain": [
              "64"
            ]
          },
          "metadata": {},
          "execution_count": 12
        }
      ]
    },
    {
      "cell_type": "code",
      "source": [
        "out.size(3)"
      ],
      "metadata": {
        "colab": {
          "base_uri": "https://localhost:8080/"
        },
        "id": "Xk_l-6CmCSGx",
        "outputId": "61d5cdd4-b357-411b-e8f4-e27d7abd4c9c"
      },
      "execution_count": 13,
      "outputs": [
        {
          "output_type": "execute_result",
          "data": {
            "text/plain": [
              "64"
            ]
          },
          "metadata": {},
          "execution_count": 13
        }
      ]
    },
    {
      "cell_type": "code",
      "source": [
        "# 첫번째 차원인 배치 차원은 그대로 두고 나머지는 펼쳐라\n",
        "out = out.view(out.size(0), -1) \n",
        "print(out.shape)"
      ],
      "metadata": {
        "colab": {
          "base_uri": "https://localhost:8080/"
        },
        "id": "GGrOH4XLCY1f",
        "outputId": "7bec9401-004c-4b98-ccc5-099646f0887f"
      },
      "execution_count": 14,
      "outputs": [
        {
          "output_type": "stream",
          "name": "stdout",
          "text": [
            "torch.Size([32, 262144])\n"
          ]
        }
      ]
    },
    {
      "cell_type": "code",
      "source": [
        "fc = nn.Linear(262144, 309) # input_dim = 262144, output_dim = 309\n",
        "out = fc(out)\n",
        "print(out.shape)"
      ],
      "metadata": {
        "colab": {
          "base_uri": "https://localhost:8080/"
        },
        "id": "7w6kuBmACcDq",
        "outputId": "9012f126-7d2f-4702-aabf-7c73481cba9e"
      },
      "execution_count": 15,
      "outputs": [
        {
          "output_type": "stream",
          "name": "stdout",
          "text": [
            "torch.Size([32, 309])\n"
          ]
        }
      ]
    },
    {
      "cell_type": "markdown",
      "source": [
        "# CNN으로 이미지 분류해보기"
      ],
      "metadata": {
        "id": "_ZYY_TUgCtIZ"
      }
    },
    {
      "cell_type": "code",
      "source": [
        "import torch\n",
        "import torchvision.datasets as dsets\n",
        "import torchvision.transforms as transforms\n",
        "import torch.nn.init"
      ],
      "metadata": {
        "id": "rEuLwmBlCv7O"
      },
      "execution_count": 16,
      "outputs": []
    },
    {
      "cell_type": "code",
      "source": [
        "device = 'cuda' if torch.cuda.is_available() else 'cpu'\n",
        "\n",
        "# 랜덤 시드 고정\n",
        "torch.manual_seed(777)\n",
        "\n",
        "# GPU 사용 가능일 경우 랜덤 시드 고정\n",
        "if device == 'cuda':\n",
        "    torch.cuda.manual_seed_all(777)"
      ],
      "metadata": {
        "id": "sGjN5VFUCyD6"
      },
      "execution_count": 17,
      "outputs": []
    },
    {
      "cell_type": "code",
      "source": [
        "learning_rate = 0.001\n",
        "training_epochs = 15\n",
        "batch_size = 32"
      ],
      "metadata": {
        "id": "8b9qmGCCC5OC"
      },
      "execution_count": 18,
      "outputs": []
    },
    {
      "cell_type": "markdown",
      "source": [
        "### 이미지 가져오기"
      ],
      "metadata": {
        "id": "itr9ipnzEJrq"
      }
    },
    {
      "cell_type": "code",
      "source": [
        "import zipfile\n",
        "import gdown"
      ],
      "metadata": {
        "id": "_I2S5ZiUC8wU"
      },
      "execution_count": 19,
      "outputs": []
    },
    {
      "cell_type": "code",
      "source": [
        "google_path = 'https://drive.google.com/uc?id='\n",
        "file_id = '1PwuXmL0HdmjsThBHDKhaCfKK3jvdoAIG'\n",
        "output_name = 'train.zip'\n",
        "gdown.download(google_path+file_id,output_name)"
      ],
      "metadata": {
        "colab": {
          "base_uri": "https://localhost:8080/",
          "height": 108
        },
        "id": "b46vs3m1ESLt",
        "outputId": "76629935-f018-4365-df53-d765773d15ed"
      },
      "execution_count": 20,
      "outputs": [
        {
          "output_type": "stream",
          "name": "stderr",
          "text": [
            "Downloading...\n",
            "From: https://drive.google.com/uc?id=1PwuXmL0HdmjsThBHDKhaCfKK3jvdoAIG\n",
            "To: /content/train.zip\n",
            "100%|██████████| 1.37G/1.37G [00:12<00:00, 113MB/s]\n"
          ]
        },
        {
          "output_type": "execute_result",
          "data": {
            "text/plain": [
              "'train.zip'"
            ],
            "application/vnd.google.colaboratory.intrinsic+json": {
              "type": "string"
            }
          },
          "metadata": {},
          "execution_count": 20
        }
      ]
    },
    {
      "cell_type": "code",
      "source": [
        "input_path = './train.zip'\n",
        "output_path = './data'"
      ],
      "metadata": {
        "id": "rDNUi86REZ2m"
      },
      "execution_count": 21,
      "outputs": []
    },
    {
      "cell_type": "code",
      "source": [
        "zip_data = zipfile.ZipFile(input_path)\n",
        "zip_data.extractall(output_path)"
      ],
      "metadata": {
        "id": "VMuqO1kCEa1a"
      },
      "execution_count": 22,
      "outputs": []
    },
    {
      "cell_type": "code",
      "source": [
        "train_path = './data/output2/train'\n",
        "val_path = './data/output2/val'\n",
        "test_path = './data/output2/test'"
      ],
      "metadata": {
        "id": "g0ftaehEEhJo"
      },
      "execution_count": 23,
      "outputs": []
    },
    {
      "cell_type": "markdown",
      "source": [
        "### Dataset 정의"
      ],
      "metadata": {
        "id": "pOzwXJP5ElR_"
      }
    },
    {
      "cell_type": "code",
      "source": [
        "import torchvision\n",
        "from torchvision import transforms"
      ],
      "metadata": {
        "id": "VptxVg52FLZ2"
      },
      "execution_count": 24,
      "outputs": []
    },
    {
      "cell_type": "code",
      "source": [
        "trainset = torchvision.datasets.ImageFolder(root = train_path, transform=transforms.ToTensor())\n",
        "valset = torchvision.datasets.ImageFolder(root = val_path, transform=transforms.ToTensor())\n",
        "testset = torchvision.datasets.ImageFolder(root = test_path, transform=transforms.ToTensor())"
      ],
      "metadata": {
        "id": "CythKNppEt1E"
      },
      "execution_count": 25,
      "outputs": []
    },
    {
      "cell_type": "code",
      "source": [
        "data_loader = torch.utils.data.DataLoader(dataset=trainset,\n",
        "                                          batch_size=batch_size,\n",
        "                                          shuffle=True,\n",
        "                                          drop_last=True)"
      ],
      "metadata": {
        "id": "FfvbxVWqF2eb"
      },
      "execution_count": 27,
      "outputs": []
    },
    {
      "cell_type": "code",
      "source": [
        "class CNN(torch.nn.Module):\n",
        "\n",
        "    def __init__(self):\n",
        "        super(CNN, self).__init__()\n",
        "        # 첫번째층\n",
        "        # ImgIn shape=(?, 256, 256, 3)\n",
        "        #    Conv     -> (?, 256, 256, 32)\n",
        "        #    Pool     -> (?, 128, 128, 32)\n",
        "        self.layer1 = torch.nn.Sequential(\n",
        "            torch.nn.Conv2d(3, 32, kernel_size=3, stride=1, padding=1),\n",
        "            torch.nn.ReLU(),\n",
        "            torch.nn.MaxPool2d(kernel_size=2, stride=2))\n",
        "\n",
        "        # 두번째층\n",
        "        # ImgIn shape=(?, 128, 128, 32)\n",
        "        #    Conv      ->(?, 128, 128, 64)\n",
        "        #    Pool      ->(?, 64, 64, 64)\n",
        "        self.layer2 = torch.nn.Sequential(\n",
        "            torch.nn.Conv2d(32, 64, kernel_size=3, stride=1, padding=1),\n",
        "            torch.nn.ReLU(),\n",
        "            torch.nn.MaxPool2d(kernel_size=2, stride=2))\n",
        "\n",
        "        # 전결합층 64x64x64 inputs -> 309 outputs\n",
        "        self.fc = torch.nn.Linear(64 * 64 * 64, 309, bias=True)\n",
        "\n",
        "        # 전결합층 한정으로 가중치 초기화\n",
        "        torch.nn.init.xavier_uniform_(self.fc.weight)\n",
        "\n",
        "    def forward(self, x):\n",
        "        out = self.layer1(x)\n",
        "        out = self.layer2(out)\n",
        "        out = out.view(out.size(0), -1)   # 전결합층을 위해서 Flatten\n",
        "        out = self.fc(out)\n",
        "        return out"
      ],
      "metadata": {
        "id": "I7tq805DGAwm"
      },
      "execution_count": 28,
      "outputs": []
    },
    {
      "cell_type": "code",
      "source": [
        "# CNN 모델 정의\n",
        "model = CNN().to(device)"
      ],
      "metadata": {
        "id": "5cN45pA2Gnzz"
      },
      "execution_count": 29,
      "outputs": []
    },
    {
      "cell_type": "code",
      "source": [
        "criterion = torch.nn.CrossEntropyLoss().to(device)    # 비용 함수에 소프트맥스 함수 포함되어져 있음.\n",
        "optimizer = torch.optim.Adam(model.parameters(), lr=learning_rate)"
      ],
      "metadata": {
        "id": "suXzxXXcGp6O"
      },
      "execution_count": 30,
      "outputs": []
    },
    {
      "cell_type": "code",
      "source": [
        "total_batch = len(data_loader)\n",
        "print('총 배치의 수 : {}'.format(total_batch))"
      ],
      "metadata": {
        "colab": {
          "base_uri": "https://localhost:8080/"
        },
        "id": "ZDtAgUkbGr-T",
        "outputId": "f7cfc270-795a-4366-f4bc-aa5cb4b9788a"
      },
      "execution_count": 31,
      "outputs": [
        {
          "output_type": "stream",
          "name": "stdout",
          "text": [
            "총 배치의 수 : 1076\n"
          ]
        }
      ]
    },
    {
      "cell_type": "code",
      "source": [
        "for epoch in range(training_epochs):\n",
        "    avg_cost = 0\n",
        "\n",
        "    for X, Y in data_loader: # 미니 배치 단위로 꺼내온다. X는 미니 배치, Y느 ㄴ레이블.\n",
        "        # image is already size of (28x28), no reshape\n",
        "        # label is not one-hot encoded\n",
        "        X = X.to(device)\n",
        "        Y = Y.to(device)\n",
        "\n",
        "        optimizer.zero_grad()\n",
        "        hypothesis = model(X)\n",
        "        cost = criterion(hypothesis, Y)\n",
        "        cost.backward()\n",
        "        optimizer.step()\n",
        "\n",
        "        avg_cost += cost / total_batch\n",
        "\n",
        "    print('[Epoch: {:>4}] cost = {:>.9}'.format(epoch + 1, avg_cost))"
      ],
      "metadata": {
        "colab": {
          "base_uri": "https://localhost:8080/"
        },
        "id": "LDt7wcQMGymr",
        "outputId": "81835f64-72b0-42d6-9250-b57902293dcc"
      },
      "execution_count": 42,
      "outputs": [
        {
          "output_type": "stream",
          "name": "stdout",
          "text": [
            "[Epoch:    1] cost = 3.06402445\n",
            "[Epoch:    2] cost = 0.44649142\n",
            "[Epoch:    3] cost = 0.210068017\n",
            "[Epoch:    4] cost = 0.148407832\n",
            "[Epoch:    5] cost = 0.104064554\n",
            "[Epoch:    6] cost = 0.0660645366\n",
            "[Epoch:    7] cost = 0.0591171235\n",
            "[Epoch:    8] cost = 0.0470294803\n",
            "[Epoch:    9] cost = 0.0339070186\n",
            "[Epoch:   10] cost = 0.025868848\n",
            "[Epoch:   11] cost = 0.0196676832\n",
            "[Epoch:   12] cost = 0.0297301132\n",
            "[Epoch:   13] cost = 0.0187802725\n",
            "[Epoch:   14] cost = 0.010671421\n",
            "[Epoch:   15] cost = 0.016225297\n"
          ]
        }
      ]
    },
    {
      "cell_type": "code",
      "source": [
        "val_loader = torch.utils.data.DataLoader(dataset=valset,\n",
        "                                          batch_size=batch_size,\n",
        "                                          shuffle=True,\n",
        "                                          drop_last=True)"
      ],
      "metadata": {
        "id": "coCDuhvZutV6"
      },
      "execution_count": 52,
      "outputs": []
    },
    {
      "cell_type": "code",
      "source": [
        "# 학습을 진행하지 않을 것이므로 torch.no_grad()\n",
        "with torch.no_grad():\n",
        "    for x, y in val_loader:\n",
        "        x = x.to(device)\n",
        "        y = y.to(device)\n",
        "        \n",
        "        outputs = model(x)\n",
        "        correct_prediction = torch.argmax(outputs, 1) == y\n",
        "        accuracy = correct_prediction.float().mean()\n",
        "        print(f\"Accuracy: {accuracy.item()}\")\n",
        "        print(\"--------------------\")"
      ],
      "metadata": {
        "colab": {
          "base_uri": "https://localhost:8080/"
        },
        "id": "N3HVDOOtIOkx",
        "outputId": "2b7def4e-9c99-4dd7-f53c-b53d8cb19ff8"
      },
      "execution_count": 57,
      "outputs": [
        {
          "output_type": "stream",
          "name": "stdout",
          "text": [
            "Accuracy: 0.9375\n",
            "--------------------\n",
            "Accuracy: 0.9375\n",
            "--------------------\n",
            "Accuracy: 1.0\n",
            "--------------------\n",
            "Accuracy: 0.96875\n",
            "--------------------\n",
            "Accuracy: 0.96875\n",
            "--------------------\n",
            "Accuracy: 0.90625\n",
            "--------------------\n",
            "Accuracy: 0.96875\n",
            "--------------------\n",
            "Accuracy: 0.96875\n",
            "--------------------\n",
            "Accuracy: 1.0\n",
            "--------------------\n",
            "Accuracy: 0.9375\n",
            "--------------------\n",
            "Accuracy: 1.0\n",
            "--------------------\n",
            "Accuracy: 0.96875\n",
            "--------------------\n",
            "Accuracy: 1.0\n",
            "--------------------\n",
            "Accuracy: 0.90625\n",
            "--------------------\n",
            "Accuracy: 1.0\n",
            "--------------------\n",
            "Accuracy: 0.96875\n",
            "--------------------\n",
            "Accuracy: 0.90625\n",
            "--------------------\n",
            "Accuracy: 0.96875\n",
            "--------------------\n",
            "Accuracy: 0.96875\n",
            "--------------------\n",
            "Accuracy: 1.0\n",
            "--------------------\n",
            "Accuracy: 1.0\n",
            "--------------------\n",
            "Accuracy: 1.0\n",
            "--------------------\n",
            "Accuracy: 0.96875\n",
            "--------------------\n",
            "Accuracy: 0.875\n",
            "--------------------\n",
            "Accuracy: 0.90625\n",
            "--------------------\n",
            "Accuracy: 0.96875\n",
            "--------------------\n",
            "Accuracy: 0.96875\n",
            "--------------------\n",
            "Accuracy: 0.96875\n",
            "--------------------\n",
            "Accuracy: 0.9375\n",
            "--------------------\n",
            "Accuracy: 0.84375\n",
            "--------------------\n",
            "Accuracy: 0.9375\n",
            "--------------------\n",
            "Accuracy: 0.875\n",
            "--------------------\n",
            "Accuracy: 0.9375\n",
            "--------------------\n",
            "Accuracy: 0.96875\n",
            "--------------------\n",
            "Accuracy: 0.96875\n",
            "--------------------\n",
            "Accuracy: 1.0\n",
            "--------------------\n",
            "Accuracy: 0.96875\n",
            "--------------------\n",
            "Accuracy: 0.96875\n",
            "--------------------\n",
            "Accuracy: 0.96875\n",
            "--------------------\n",
            "Accuracy: 1.0\n",
            "--------------------\n",
            "Accuracy: 1.0\n",
            "--------------------\n",
            "Accuracy: 1.0\n",
            "--------------------\n",
            "Accuracy: 1.0\n",
            "--------------------\n",
            "Accuracy: 1.0\n",
            "--------------------\n",
            "Accuracy: 0.96875\n",
            "--------------------\n",
            "Accuracy: 0.90625\n",
            "--------------------\n",
            "Accuracy: 0.96875\n",
            "--------------------\n",
            "Accuracy: 1.0\n",
            "--------------------\n",
            "Accuracy: 0.96875\n",
            "--------------------\n",
            "Accuracy: 0.875\n",
            "--------------------\n",
            "Accuracy: 1.0\n",
            "--------------------\n",
            "Accuracy: 0.9375\n",
            "--------------------\n",
            "Accuracy: 0.875\n",
            "--------------------\n",
            "Accuracy: 0.96875\n",
            "--------------------\n",
            "Accuracy: 0.90625\n",
            "--------------------\n",
            "Accuracy: 1.0\n",
            "--------------------\n",
            "Accuracy: 0.96875\n",
            "--------------------\n",
            "Accuracy: 0.96875\n",
            "--------------------\n",
            "Accuracy: 0.9375\n",
            "--------------------\n",
            "Accuracy: 1.0\n",
            "--------------------\n",
            "Accuracy: 0.9375\n",
            "--------------------\n",
            "Accuracy: 0.96875\n",
            "--------------------\n",
            "Accuracy: 0.90625\n",
            "--------------------\n",
            "Accuracy: 0.90625\n",
            "--------------------\n",
            "Accuracy: 0.9375\n",
            "--------------------\n",
            "Accuracy: 1.0\n",
            "--------------------\n",
            "Accuracy: 1.0\n",
            "--------------------\n",
            "Accuracy: 0.90625\n",
            "--------------------\n",
            "Accuracy: 1.0\n",
            "--------------------\n",
            "Accuracy: 0.90625\n",
            "--------------------\n",
            "Accuracy: 1.0\n",
            "--------------------\n",
            "Accuracy: 1.0\n",
            "--------------------\n",
            "Accuracy: 0.90625\n",
            "--------------------\n",
            "Accuracy: 1.0\n",
            "--------------------\n",
            "Accuracy: 0.9375\n",
            "--------------------\n",
            "Accuracy: 0.96875\n",
            "--------------------\n",
            "Accuracy: 0.96875\n",
            "--------------------\n",
            "Accuracy: 1.0\n",
            "--------------------\n",
            "Accuracy: 0.9375\n",
            "--------------------\n",
            "Accuracy: 1.0\n",
            "--------------------\n",
            "Accuracy: 0.9375\n",
            "--------------------\n",
            "Accuracy: 0.84375\n",
            "--------------------\n",
            "Accuracy: 1.0\n",
            "--------------------\n",
            "Accuracy: 0.96875\n",
            "--------------------\n",
            "Accuracy: 1.0\n",
            "--------------------\n",
            "Accuracy: 0.96875\n",
            "--------------------\n",
            "Accuracy: 0.9375\n",
            "--------------------\n",
            "Accuracy: 0.90625\n",
            "--------------------\n",
            "Accuracy: 0.96875\n",
            "--------------------\n",
            "Accuracy: 1.0\n",
            "--------------------\n",
            "Accuracy: 0.96875\n",
            "--------------------\n",
            "Accuracy: 0.96875\n",
            "--------------------\n",
            "Accuracy: 0.9375\n",
            "--------------------\n",
            "Accuracy: 0.9375\n",
            "--------------------\n",
            "Accuracy: 1.0\n",
            "--------------------\n",
            "Accuracy: 0.9375\n",
            "--------------------\n",
            "Accuracy: 0.875\n",
            "--------------------\n",
            "Accuracy: 0.9375\n",
            "--------------------\n",
            "Accuracy: 0.96875\n",
            "--------------------\n",
            "Accuracy: 0.96875\n",
            "--------------------\n",
            "Accuracy: 0.96875\n",
            "--------------------\n",
            "Accuracy: 1.0\n",
            "--------------------\n",
            "Accuracy: 0.96875\n",
            "--------------------\n",
            "Accuracy: 0.96875\n",
            "--------------------\n",
            "Accuracy: 0.9375\n",
            "--------------------\n",
            "Accuracy: 0.875\n",
            "--------------------\n",
            "Accuracy: 1.0\n",
            "--------------------\n",
            "Accuracy: 1.0\n",
            "--------------------\n",
            "Accuracy: 0.9375\n",
            "--------------------\n",
            "Accuracy: 0.96875\n",
            "--------------------\n",
            "Accuracy: 0.9375\n",
            "--------------------\n",
            "Accuracy: 0.90625\n",
            "--------------------\n",
            "Accuracy: 0.9375\n",
            "--------------------\n",
            "Accuracy: 0.96875\n",
            "--------------------\n",
            "Accuracy: 0.96875\n",
            "--------------------\n",
            "Accuracy: 0.9375\n",
            "--------------------\n",
            "Accuracy: 0.90625\n",
            "--------------------\n",
            "Accuracy: 0.96875\n",
            "--------------------\n",
            "Accuracy: 0.9375\n",
            "--------------------\n",
            "Accuracy: 0.96875\n",
            "--------------------\n",
            "Accuracy: 0.96875\n",
            "--------------------\n",
            "Accuracy: 0.9375\n",
            "--------------------\n",
            "Accuracy: 1.0\n",
            "--------------------\n",
            "Accuracy: 0.96875\n",
            "--------------------\n",
            "Accuracy: 0.96875\n",
            "--------------------\n",
            "Accuracy: 1.0\n",
            "--------------------\n",
            "Accuracy: 1.0\n",
            "--------------------\n",
            "Accuracy: 1.0\n",
            "--------------------\n",
            "Accuracy: 1.0\n",
            "--------------------\n",
            "Accuracy: 0.9375\n",
            "--------------------\n",
            "Accuracy: 1.0\n",
            "--------------------\n"
          ]
        }
      ]
    }
  ]
}